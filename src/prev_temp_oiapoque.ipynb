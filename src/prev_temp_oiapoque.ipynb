{
 "cells": [
  {
   "cell_type": "code",
   "execution_count": 2,
   "metadata": {},
   "outputs": [],
   "source": [
    "import numpy as np\n",
    "import pandas as pd\n",
    "import seaborn as sns\n",
    "import missingno  as msno\n",
    "import matplotlib.pyplot as plt\n",
    "%matplotlib inline\n",
    "plt.style.use('ggplot')\n",
    "\n",
    "from sklearn.preprocessing import StandardScaler\n",
    "from sklearn.ensemble import RandomForestRegressor\n",
    "from sklearn.model_selection import train_test_split\n",
    "from sklearn.metrics import mean_squared_error, median_absolute_error, r2_score, mean_absolute_error\n",
    "from sklearn.feature_selection import SelectKBest, SelectPercentile, f_regression, f_classif"
   ]
  },
  {
   "cell_type": "code",
   "execution_count": 3,
   "metadata": {},
   "outputs": [],
   "source": [
    "oiapoque = pd.read_csv('../data/oiapoque.txt')"
   ]
  },
  {
   "cell_type": "code",
   "execution_count": 4,
   "metadata": {},
   "outputs": [
    {
     "data": {
      "text/plain": [
       "Index(['codigo_estacao', 'data', 'hora', 'temp_inst', 'temp_max', 'temp_min',\n",
       "       'umid_inst', 'umid_max', 'umid_min', 'pto_orvalho_inst',\n",
       "       'pto_orvalho_max', 'pto_orvalho_min', 'pressao', 'pressao_max',\n",
       "       'pressao_min', 'vento_vel', 'vento_direcao', 'vento_rajada', 'radiacao',\n",
       "       'precipitacao'],\n",
       "      dtype='object')"
      ]
     },
     "execution_count": 4,
     "metadata": {},
     "output_type": "execute_result"
    }
   ],
   "source": [
    "oiapoque.columns"
   ]
  },
  {
   "cell_type": "code",
   "execution_count": 5,
   "metadata": {},
   "outputs": [
    {
     "name": "stdout",
     "output_type": "stream",
     "text": [
      "<class 'pandas.core.frame.DataFrame'>\n",
      "RangeIndex: 3144 entries, 0 to 3143\n",
      "Data columns (total 20 columns):\n",
      " #   Column            Non-Null Count  Dtype  \n",
      "---  ------            --------------  -----  \n",
      " 0   codigo_estacao    3144 non-null   object \n",
      " 1   data              3144 non-null   object \n",
      " 2   hora              3144 non-null   int64  \n",
      " 3   temp_inst         3144 non-null   float64\n",
      " 4   temp_max          3144 non-null   float64\n",
      " 5   temp_min          3144 non-null   float64\n",
      " 6   umid_inst         3144 non-null   int64  \n",
      " 7   umid_max          3144 non-null   int64  \n",
      " 8   umid_min          3144 non-null   int64  \n",
      " 9   pto_orvalho_inst  3144 non-null   float64\n",
      " 10  pto_orvalho_max   3144 non-null   float64\n",
      " 11  pto_orvalho_min   3144 non-null   float64\n",
      " 12  pressao           3144 non-null   float64\n",
      " 13  pressao_max       3144 non-null   float64\n",
      " 14  pressao_min       3144 non-null   float64\n",
      " 15  vento_vel         3143 non-null   float64\n",
      " 16  vento_direcao     3142 non-null   float64\n",
      " 17  vento_rajada      3142 non-null   float64\n",
      " 18  radiacao          3144 non-null   float64\n",
      " 19  precipitacao      3144 non-null   float64\n",
      "dtypes: float64(14), int64(4), object(2)\n",
      "memory usage: 491.4+ KB\n"
     ]
    }
   ],
   "source": [
    "oiapoque.info()"
   ]
  },
  {
   "cell_type": "markdown",
   "metadata": {},
   "source": [
    "# Tratando dados Faltantes"
   ]
  },
  {
   "cell_type": "code",
   "execution_count": 6,
   "metadata": {},
   "outputs": [],
   "source": [
    "# tabela percentual de dados faltantes\n",
    "def tabela_faltantes():\n",
    "    features_numericas = [\"hora\",\"temp_inst\", \"temp_max\", \"temp_min\", \"umid_inst\",\"umid_max\",\"umid_min\",\n",
    "                          \"pto_orvalho_inst\", \"pto_orvalho_max\", \"pto_orvalho_min\",\"pressao\",'pressao_max', \n",
    "                          \"pressao_min\", \"vento_vel\", \"vento_direcao\", \"vento_rajada\", \"radiacao\",\"precipitacao\"]\n",
    "\n",
    "    df = oiapoque[features_numericas]\n",
    "\n",
    "\n",
    "    total = df.isnull().sum().sort_values(ascending=False)\n",
    "    percent = (df.isnull().sum()/df.isnull().count()).sort_values(ascending=False)\n",
    "\n",
    "\n",
    "    missing_data = pd.concat([total, percent], axis=1,join='outer', keys=['Dados Ausentes', '% Percentual'])\n",
    "    missing_data.index.name =' Variaveis numericas'\n",
    "    return missing_data"
   ]
  },
  {
   "cell_type": "code",
   "execution_count": 7,
   "metadata": {},
   "outputs": [
    {
     "data": {
      "text/html": [
       "<div>\n",
       "<style scoped>\n",
       "    .dataframe tbody tr th:only-of-type {\n",
       "        vertical-align: middle;\n",
       "    }\n",
       "\n",
       "    .dataframe tbody tr th {\n",
       "        vertical-align: top;\n",
       "    }\n",
       "\n",
       "    .dataframe thead th {\n",
       "        text-align: right;\n",
       "    }\n",
       "</style>\n",
       "<table border=\"1\" class=\"dataframe\">\n",
       "  <thead>\n",
       "    <tr style=\"text-align: right;\">\n",
       "      <th></th>\n",
       "      <th>Dados Ausentes</th>\n",
       "      <th>% Percentual</th>\n",
       "    </tr>\n",
       "    <tr>\n",
       "      <th>Variaveis numericas</th>\n",
       "      <th></th>\n",
       "      <th></th>\n",
       "    </tr>\n",
       "  </thead>\n",
       "  <tbody>\n",
       "    <tr>\n",
       "      <th>vento_rajada</th>\n",
       "      <td>2</td>\n",
       "      <td>0.000636</td>\n",
       "    </tr>\n",
       "    <tr>\n",
       "      <th>vento_direcao</th>\n",
       "      <td>2</td>\n",
       "      <td>0.000636</td>\n",
       "    </tr>\n",
       "    <tr>\n",
       "      <th>vento_vel</th>\n",
       "      <td>1</td>\n",
       "      <td>0.000318</td>\n",
       "    </tr>\n",
       "    <tr>\n",
       "      <th>precipitacao</th>\n",
       "      <td>0</td>\n",
       "      <td>0.000000</td>\n",
       "    </tr>\n",
       "    <tr>\n",
       "      <th>umid_min</th>\n",
       "      <td>0</td>\n",
       "      <td>0.000000</td>\n",
       "    </tr>\n",
       "    <tr>\n",
       "      <th>temp_inst</th>\n",
       "      <td>0</td>\n",
       "      <td>0.000000</td>\n",
       "    </tr>\n",
       "    <tr>\n",
       "      <th>temp_max</th>\n",
       "      <td>0</td>\n",
       "      <td>0.000000</td>\n",
       "    </tr>\n",
       "    <tr>\n",
       "      <th>temp_min</th>\n",
       "      <td>0</td>\n",
       "      <td>0.000000</td>\n",
       "    </tr>\n",
       "    <tr>\n",
       "      <th>umid_inst</th>\n",
       "      <td>0</td>\n",
       "      <td>0.000000</td>\n",
       "    </tr>\n",
       "    <tr>\n",
       "      <th>umid_max</th>\n",
       "      <td>0</td>\n",
       "      <td>0.000000</td>\n",
       "    </tr>\n",
       "    <tr>\n",
       "      <th>pto_orvalho_max</th>\n",
       "      <td>0</td>\n",
       "      <td>0.000000</td>\n",
       "    </tr>\n",
       "    <tr>\n",
       "      <th>pto_orvalho_inst</th>\n",
       "      <td>0</td>\n",
       "      <td>0.000000</td>\n",
       "    </tr>\n",
       "    <tr>\n",
       "      <th>radiacao</th>\n",
       "      <td>0</td>\n",
       "      <td>0.000000</td>\n",
       "    </tr>\n",
       "    <tr>\n",
       "      <th>pto_orvalho_min</th>\n",
       "      <td>0</td>\n",
       "      <td>0.000000</td>\n",
       "    </tr>\n",
       "    <tr>\n",
       "      <th>pressao</th>\n",
       "      <td>0</td>\n",
       "      <td>0.000000</td>\n",
       "    </tr>\n",
       "    <tr>\n",
       "      <th>pressao_max</th>\n",
       "      <td>0</td>\n",
       "      <td>0.000000</td>\n",
       "    </tr>\n",
       "    <tr>\n",
       "      <th>pressao_min</th>\n",
       "      <td>0</td>\n",
       "      <td>0.000000</td>\n",
       "    </tr>\n",
       "    <tr>\n",
       "      <th>hora</th>\n",
       "      <td>0</td>\n",
       "      <td>0.000000</td>\n",
       "    </tr>\n",
       "  </tbody>\n",
       "</table>\n",
       "</div>"
      ],
      "text/plain": [
       "                      Dados Ausentes  % Percentual\n",
       " Variaveis numericas                              \n",
       "vento_rajada                       2      0.000636\n",
       "vento_direcao                      2      0.000636\n",
       "vento_vel                          1      0.000318\n",
       "precipitacao                       0      0.000000\n",
       "umid_min                           0      0.000000\n",
       "temp_inst                          0      0.000000\n",
       "temp_max                           0      0.000000\n",
       "temp_min                           0      0.000000\n",
       "umid_inst                          0      0.000000\n",
       "umid_max                           0      0.000000\n",
       "pto_orvalho_max                    0      0.000000\n",
       "pto_orvalho_inst                   0      0.000000\n",
       "radiacao                           0      0.000000\n",
       "pto_orvalho_min                    0      0.000000\n",
       "pressao                            0      0.000000\n",
       "pressao_max                        0      0.000000\n",
       "pressao_min                        0      0.000000\n",
       "hora                               0      0.000000"
      ]
     },
     "execution_count": 7,
     "metadata": {},
     "output_type": "execute_result"
    }
   ],
   "source": [
    "tabela_faltantes()"
   ]
  },
  {
   "cell_type": "code",
   "execution_count": 8,
   "metadata": {},
   "outputs": [],
   "source": [
    "# Preenchendo as colunas com o valor da média:\n",
    "mean_vra = oiapoque.vento_rajada.mean()\n",
    "mean_vv = oiapoque.vento_direcao.mean()\n",
    "mean_vd = oiapoque.vento_vel.mean()\n",
    "\n",
    "oiapoque['vento_rajada'] = oiapoque['vento_rajada'].fillna(mean_vra)\n",
    "oiapoque['vento_direcao'] = oiapoque['vento_direcao'].fillna(mean_vv)\n",
    "oiapoque['vento_vel'] = oiapoque['vento_vel'].fillna(mean_vd)"
   ]
  },
  {
   "cell_type": "code",
   "execution_count": 9,
   "metadata": {},
   "outputs": [
    {
     "data": {
      "text/html": [
       "<div>\n",
       "<style scoped>\n",
       "    .dataframe tbody tr th:only-of-type {\n",
       "        vertical-align: middle;\n",
       "    }\n",
       "\n",
       "    .dataframe tbody tr th {\n",
       "        vertical-align: top;\n",
       "    }\n",
       "\n",
       "    .dataframe thead th {\n",
       "        text-align: right;\n",
       "    }\n",
       "</style>\n",
       "<table border=\"1\" class=\"dataframe\">\n",
       "  <thead>\n",
       "    <tr style=\"text-align: right;\">\n",
       "      <th></th>\n",
       "      <th>Dados Ausentes</th>\n",
       "      <th>% Percentual</th>\n",
       "    </tr>\n",
       "    <tr>\n",
       "      <th>Variaveis numericas</th>\n",
       "      <th></th>\n",
       "      <th></th>\n",
       "    </tr>\n",
       "  </thead>\n",
       "  <tbody>\n",
       "    <tr>\n",
       "      <th>precipitacao</th>\n",
       "      <td>0</td>\n",
       "      <td>0.0</td>\n",
       "    </tr>\n",
       "    <tr>\n",
       "      <th>radiacao</th>\n",
       "      <td>0</td>\n",
       "      <td>0.0</td>\n",
       "    </tr>\n",
       "    <tr>\n",
       "      <th>temp_inst</th>\n",
       "      <td>0</td>\n",
       "      <td>0.0</td>\n",
       "    </tr>\n",
       "    <tr>\n",
       "      <th>temp_max</th>\n",
       "      <td>0</td>\n",
       "      <td>0.0</td>\n",
       "    </tr>\n",
       "    <tr>\n",
       "      <th>temp_min</th>\n",
       "      <td>0</td>\n",
       "      <td>0.0</td>\n",
       "    </tr>\n",
       "    <tr>\n",
       "      <th>umid_inst</th>\n",
       "      <td>0</td>\n",
       "      <td>0.0</td>\n",
       "    </tr>\n",
       "    <tr>\n",
       "      <th>umid_max</th>\n",
       "      <td>0</td>\n",
       "      <td>0.0</td>\n",
       "    </tr>\n",
       "    <tr>\n",
       "      <th>umid_min</th>\n",
       "      <td>0</td>\n",
       "      <td>0.0</td>\n",
       "    </tr>\n",
       "    <tr>\n",
       "      <th>pto_orvalho_inst</th>\n",
       "      <td>0</td>\n",
       "      <td>0.0</td>\n",
       "    </tr>\n",
       "    <tr>\n",
       "      <th>pto_orvalho_max</th>\n",
       "      <td>0</td>\n",
       "      <td>0.0</td>\n",
       "    </tr>\n",
       "    <tr>\n",
       "      <th>pto_orvalho_min</th>\n",
       "      <td>0</td>\n",
       "      <td>0.0</td>\n",
       "    </tr>\n",
       "    <tr>\n",
       "      <th>pressao</th>\n",
       "      <td>0</td>\n",
       "      <td>0.0</td>\n",
       "    </tr>\n",
       "    <tr>\n",
       "      <th>pressao_max</th>\n",
       "      <td>0</td>\n",
       "      <td>0.0</td>\n",
       "    </tr>\n",
       "    <tr>\n",
       "      <th>pressao_min</th>\n",
       "      <td>0</td>\n",
       "      <td>0.0</td>\n",
       "    </tr>\n",
       "    <tr>\n",
       "      <th>vento_vel</th>\n",
       "      <td>0</td>\n",
       "      <td>0.0</td>\n",
       "    </tr>\n",
       "    <tr>\n",
       "      <th>vento_direcao</th>\n",
       "      <td>0</td>\n",
       "      <td>0.0</td>\n",
       "    </tr>\n",
       "    <tr>\n",
       "      <th>vento_rajada</th>\n",
       "      <td>0</td>\n",
       "      <td>0.0</td>\n",
       "    </tr>\n",
       "    <tr>\n",
       "      <th>hora</th>\n",
       "      <td>0</td>\n",
       "      <td>0.0</td>\n",
       "    </tr>\n",
       "  </tbody>\n",
       "</table>\n",
       "</div>"
      ],
      "text/plain": [
       "                      Dados Ausentes  % Percentual\n",
       " Variaveis numericas                              \n",
       "precipitacao                       0           0.0\n",
       "radiacao                           0           0.0\n",
       "temp_inst                          0           0.0\n",
       "temp_max                           0           0.0\n",
       "temp_min                           0           0.0\n",
       "umid_inst                          0           0.0\n",
       "umid_max                           0           0.0\n",
       "umid_min                           0           0.0\n",
       "pto_orvalho_inst                   0           0.0\n",
       "pto_orvalho_max                    0           0.0\n",
       "pto_orvalho_min                    0           0.0\n",
       "pressao                            0           0.0\n",
       "pressao_max                        0           0.0\n",
       "pressao_min                        0           0.0\n",
       "vento_vel                          0           0.0\n",
       "vento_direcao                      0           0.0\n",
       "vento_rajada                       0           0.0\n",
       "hora                               0           0.0"
      ]
     },
     "execution_count": 9,
     "metadata": {},
     "output_type": "execute_result"
    }
   ],
   "source": [
    "tabela_faltantes() # vamos verificar os dados depois de tratarmos os dados ausentes"
   ]
  },
  {
   "cell_type": "markdown",
   "metadata": {},
   "source": [
    "- Matrix de Nulidade"
   ]
  },
  {
   "cell_type": "code",
   "execution_count": 10,
   "metadata": {},
   "outputs": [
    {
     "data": {
      "text/plain": [
       "<matplotlib.axes._subplots.AxesSubplot at 0x7fa43ab5fb10>"
      ]
     },
     "execution_count": 10,
     "metadata": {},
     "output_type": "execute_result"
    },
    {
     "data": {
      "image/png": "[encoded data removed]",
      "text/plain": [
       "<Figure size 1800x720 with 2 Axes>"
      ]
     },
     "metadata": {},
     "output_type": "display_data"
    }
   ],
   "source": [
    "msno.matrix(oiapoque)"
   ]
  },
  {
   "cell_type": "code",
   "execution_count": 15,
   "metadata": {},
   "outputs": [
    {
     "data": {
      "image/png": "[encoded data removed]",
      "text/plain": [
       "<Figure size 432x288 with 1 Axes>"
      ]
     },
     "metadata": {},
     "output_type": "display_data"
    }
   ],
   "source": []
  },
  {
   "cell_type": "markdown",
   "metadata": {},
   "source": [
    "OBS:. Apos te feito alguns testes de hipotese para normalidade (na verdade fiz na EDA só pra precipitação), heatcolor de correlação e toda analise percebeu-se que as features acima são as mais importantes  "
   ]
  },
  {
   "cell_type": "markdown",
   "metadata": {},
   "source": [
    "## Seleção de Features "
   ]
  },
  {
   "cell_type": "markdown",
   "metadata": {},
   "source": [
    "- Selecionando o nosso X e Y  "
   ]
  },
  {
   "cell_type": "code",
   "execution_count": 16,
   "metadata": {},
   "outputs": [
    {
     "data": {
      "text/plain": [
       "Index(['codigo_estacao', 'data', 'hora', 'temp_inst', 'temp_max', 'temp_min',\n",
       "       'umid_inst', 'umid_max', 'umid_min', 'pto_orvalho_inst',\n",
       "       'pto_orvalho_max', 'pto_orvalho_min', 'pressao', 'pressao_max',\n",
       "       'pressao_min', 'vento_vel', 'vento_direcao', 'vento_rajada', 'radiacao',\n",
       "       'precipitacao'],\n",
       "      dtype='object')"
      ]
     },
     "execution_count": 16,
     "metadata": {},
     "output_type": "execute_result"
    }
   ],
   "source": [
    "oiapoque.columns"
   ]
  },
  {
   "cell_type": "code",
   "execution_count": 17,
   "metadata": {},
   "outputs": [],
   "source": [
    "y = oiapoque['temp_inst'] # temperatura no instante (target)\n",
    "X = oiapoque.drop(['temp_inst','codigo_estacao','data','hora'], axis=1) # removendo temperatura no instante e algumas features "
   ]
  },
  {
   "cell_type": "markdown",
   "metadata": {},
   "source": [
    "- Treino e teste"
   ]
  },
  {
   "cell_type": "code",
   "execution_count": 18,
   "metadata": {},
   "outputs": [
    {
     "data": {
      "text/plain": [
       "((2200, 16), (944, 16), (2200,), (944,))"
      ]
     },
     "execution_count": 18,
     "metadata": {},
     "output_type": "execute_result"
    }
   ],
   "source": [
    "Xtrain, Xtest, ytrain, ytest = train_test_split(X, y, train_size=0.7, random_state=0)\n",
    "Xtrain.shape, Xtest.shape, ytrain.shape, ytest.shape "
   ]
  },
  {
   "cell_type": "markdown",
   "metadata": {},
   "source": [
    "### Selecionando Features mais importante "
   ]
  },
  {
   "cell_type": "code",
   "execution_count": 20,
   "metadata": {},
   "outputs": [
    {
     "name": "stdout",
     "output_type": "stream",
     "text": [
      "k = 2 - MAE = 0.14339759887005746\n",
      "k = 4 - MAE = 0.14339759887005743\n",
      "k = 6 - MAE = 0.14339759887005762\n",
      "k = 8 - MAE = 0.14339759887005749\n",
      "k = 10 - MAE = 0.14339759887005746\n",
      "k = 12 - MAE = 0.14339759887005765\n",
      "k = 14 - MAE = 0.14339759887005754\n",
      "k = 16 - MAE = 0.14339759887005757\n"
     ]
    }
   ],
   "source": [
    "k_vs_score = []\n",
    "\n",
    "for k in range(2,17,2): \n",
    "    selector = SelectKBest(score_func=f_regression, k=5)\n",
    "\n",
    "    Xtrain2 = selector.fit_transform(Xtrain, ytrain)\n",
    "    Xtest2 = selector.transform(Xtest)\n",
    "\n",
    "    mdl = RandomForestRegressor(n_estimators=100, n_jobs=-1, random_state=0)\n",
    "    mdl.fit(Xtrain2, ytrain)\n",
    "\n",
    "    prev_temp = mdl.predict(Xtest2)\n",
    "\n",
    "    score = mean_absolute_error(ytest, prev_temp)\n",
    "    print(f'k = {k} - MAE = {score}')\n",
    "\n",
    "    k_vs_score.append(score)"
   ]
  },
  {
   "cell_type": "code",
   "execution_count": 21,
   "metadata": {},
   "outputs": [
    {
     "data": {
      "text/plain": [
       "<matplotlib.axes._subplots.AxesSubplot at 0x7fa4384cef50>"
      ]
     },
     "execution_count": 21,
     "metadata": {},
     "output_type": "execute_result"
    },
    {
     "data": {
      "image/png": "[encoded data removed]",
      "text/plain": [
       "<Figure size 720x504 with 1 Axes>"
      ]
     },
     "metadata": {},
     "output_type": "display_data"
    }
   ],
   "source": [
    "pd.Series(k_vs_score, index=range(2,17,2)).plot(figsize=(10,7)) # vamos printar um grafico de frequencia"
   ]
  },
  {
   "cell_type": "code",
   "execution_count": 22,
   "metadata": {},
   "outputs": [
    {
     "data": {
      "text/plain": [
       "SelectKBest(k=8, score_func=<function f_regression at 0x7fa43b52e170>)"
      ]
     },
     "execution_count": 22,
     "metadata": {},
     "output_type": "execute_result"
    }
   ],
   "source": [
    "selector = SelectKBest(score_func=f_regression, k=8) # selecionamos o intervalo\n",
    "selector.fit(Xtrain, ytrain)"
   ]
  },
  {
   "cell_type": "code",
   "execution_count": 23,
   "metadata": {},
   "outputs": [
    {
     "data": {
      "text/plain": [
       "Index(['temp_max', 'temp_min', 'umid_inst', 'umid_max', 'umid_min',\n",
       "       'vento_vel', 'vento_rajada', 'radiacao'],\n",
       "      dtype='object')"
      ]
     },
     "execution_count": 23,
     "metadata": {},
     "output_type": "execute_result"
    }
   ],
   "source": [
    "mask = selector.get_support()\n",
    "Xtest.columns[mask] # vamos ver as features"
   ]
  },
  {
   "cell_type": "code",
   "execution_count": 24,
   "metadata": {},
   "outputs": [
    {
     "data": {
      "text/plain": [
       "<matplotlib.axes._subplots.AxesSubplot at 0x7fa43844b590>"
      ]
     },
     "execution_count": 24,
     "metadata": {},
     "output_type": "execute_result"
    },
    {
     "data": {
      "image/png": "[encoded data removed]",
      "text/plain": [
       "<Figure size 432x288 with 1 Axes>"
      ]
     },
     "metadata": {},
     "output_type": "display_data"
    }
   ],
   "source": [
    "pd.Series(selector.scores_, index=Xtrain.columns).sort_values().tail().plot.barh()"
   ]
  },
  {
   "cell_type": "markdown",
   "metadata": {},
   "source": [
    "## Avaliando o desempenho do modelo"
   ]
  },
  {
   "cell_type": "code",
   "execution_count": 25,
   "metadata": {},
   "outputs": [
    {
     "name": "stdout",
     "output_type": "stream",
     "text": [
      "𝑅² - Coeficiente de determinação: 0.99030813\n",
      "MSE - Erro médio quadrático: 0.05580419\n",
      "MAE - Mediana dos erros de predição: 0.075\n"
     ]
    }
   ],
   "source": [
    "print(f'𝑅² - Coeficiente de determinação: {r2_score(ytest, prev_temp).round(8)}') # 𝑅²\n",
    "print(f'MSE - Erro médio quadrático: {mean_squared_error(ytest, prev_temp).round(8)}') # Mean Squared Error\n",
    "print(f'MAE - Mediana dos erros de predição: {median_absolute_error(ytest, prev_temp).round(8)}') # Median Absolute Error'"
   ]
  },
  {
   "cell_type": "markdown",
   "metadata": {},
   "source": [
    "## Salvando as Previsões"
   ]
  },
  {
   "cell_type": "code",
   "execution_count": 26,
   "metadata": {},
   "outputs": [],
   "source": [
    "prev_temp_oiapoque = pd.Series(prev_temp)\n",
    "prev_temp_oiapoque.to_csv('../output/prev_temp_oiapoque.csv',index = False)"
   ]
  }
 ],
 "metadata": {
  "kernelspec": {
   "display_name": "Python 3.7.6 64-bit ('base': conda)",
   "language": "python",
   "name": "python37664bitbaseconda9e99948a330642a89bba97badd3d4f32"
  },
  "language_info": {
   "codemirror_mode": {
    "name": "ipython",
    "version": 3
   },
   "file_extension": ".py",
   "mimetype": "text/x-python",
   "name": "python",
   "nbconvert_exporter": "python",
   "pygments_lexer": "ipython3",
   "version": "3.7.6"
  }
 },
 "nbformat": 4,
 "nbformat_minor": 4
}
