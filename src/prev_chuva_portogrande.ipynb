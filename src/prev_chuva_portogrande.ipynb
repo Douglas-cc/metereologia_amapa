{
 "cells": [
  {
   "cell_type": "code",
   "execution_count": 1,
   "metadata": {},
   "outputs": [],
   "source": [
    "import numpy as np\n",
    "import pandas as pd\n",
    "import seaborn as sns\n",
    "import missingno  as msno\n",
    "import matplotlib.pyplot as plt\n",
    "%matplotlib inline\n",
    "plt.style.use('ggplot')\n",
    "\n",
    "from sklearn.model_selection import train_test_split\n",
    "from sklearn.feature_selection import SelectFromModel\n",
    "from sklearn.metrics import mean_absolute_error\n",
    "from sklearn.linear_model import LinearRegression, Ridge, Lasso\n",
    "from sklearn.ensemble import RandomForestRegressor\n",
    "from xgboost import XGBRegressor\n",
    "from sklearn.metrics import mean_squared_error, median_absolute_error, r2_score, mean_absolute_error"
   ]
  },
  {
   "cell_type": "code",
   "execution_count": 2,
   "metadata": {},
   "outputs": [],
   "source": [
    "portogrande = pd.read_csv('../data/portogrande.txt')"
   ]
  },
  {
   "cell_type": "markdown",
   "metadata": {},
   "source": [
    "# Tratando dados Faltantes"
   ]
  },
  {
   "cell_type": "code",
   "execution_count": 3,
   "metadata": {},
   "outputs": [],
   "source": [
    "# tabela percentual de dados faltantes\n",
    "def tabela_faltantes():\n",
    "    features_numericas = [\"hora\",\"temp_ins\", \"temp_max\", \"temp_min\", \"umid_inst\",\"umid_max\",\"umid_min\",\n",
    "                          \"pto_orvalho_inst\", \"pto_orvalho_max\", \"pto_orvalho_min\",\"pressao\",\"pressao_max\",\n",
    "                          \"pressao_min\",\"vento_vel\", \"vento_direcao\", \"vento_rajada\", \"radiacao\",\"precipitacao\"]\n",
    "\n",
    "    df = portogrande[features_numericas]\n",
    "\n",
    "\n",
    "    total = df.isnull().sum().sort_values(ascending=False)\n",
    "    percent = (df.isnull().sum()/df.isnull().count()).sort_values(ascending=False)\n",
    "\n",
    "\n",
    "    missing_data = pd.concat([total, percent], axis=1,join='outer', keys=['Dados Ausentes', '% Percentual'])\n",
    "    missing_data.index.name =' Variaveis numericas'\n",
    "    return missing_data"
   ]
  },
  {
   "cell_type": "code",
   "execution_count": 4,
   "metadata": {},
   "outputs": [
    {
     "data": {
      "text/html": [
       "<div>\n",
       "<style scoped>\n",
       "    .dataframe tbody tr th:only-of-type {\n",
       "        vertical-align: middle;\n",
       "    }\n",
       "\n",
       "    .dataframe tbody tr th {\n",
       "        vertical-align: top;\n",
       "    }\n",
       "\n",
       "    .dataframe thead th {\n",
       "        text-align: right;\n",
       "    }\n",
       "</style>\n",
       "<table border=\"1\" class=\"dataframe\">\n",
       "  <thead>\n",
       "    <tr style=\"text-align: right;\">\n",
       "      <th></th>\n",
       "      <th>Dados Ausentes</th>\n",
       "      <th>% Percentual</th>\n",
       "    </tr>\n",
       "    <tr>\n",
       "      <th>Variaveis numericas</th>\n",
       "      <th></th>\n",
       "      <th></th>\n",
       "    </tr>\n",
       "  </thead>\n",
       "  <tbody>\n",
       "    <tr>\n",
       "      <th>vento_rajada</th>\n",
       "      <td>6</td>\n",
       "      <td>0.000813</td>\n",
       "    </tr>\n",
       "    <tr>\n",
       "      <th>pto_orvalho_max</th>\n",
       "      <td>5</td>\n",
       "      <td>0.000678</td>\n",
       "    </tr>\n",
       "    <tr>\n",
       "      <th>umid_min</th>\n",
       "      <td>5</td>\n",
       "      <td>0.000678</td>\n",
       "    </tr>\n",
       "    <tr>\n",
       "      <th>temp_max</th>\n",
       "      <td>5</td>\n",
       "      <td>0.000678</td>\n",
       "    </tr>\n",
       "    <tr>\n",
       "      <th>pressao_min</th>\n",
       "      <td>5</td>\n",
       "      <td>0.000678</td>\n",
       "    </tr>\n",
       "    <tr>\n",
       "      <th>pressao_max</th>\n",
       "      <td>5</td>\n",
       "      <td>0.000678</td>\n",
       "    </tr>\n",
       "    <tr>\n",
       "      <th>temp_min</th>\n",
       "      <td>5</td>\n",
       "      <td>0.000678</td>\n",
       "    </tr>\n",
       "    <tr>\n",
       "      <th>pto_orvalho_min</th>\n",
       "      <td>5</td>\n",
       "      <td>0.000678</td>\n",
       "    </tr>\n",
       "    <tr>\n",
       "      <th>umid_max</th>\n",
       "      <td>5</td>\n",
       "      <td>0.000678</td>\n",
       "    </tr>\n",
       "    <tr>\n",
       "      <th>temp_ins</th>\n",
       "      <td>0</td>\n",
       "      <td>0.000000</td>\n",
       "    </tr>\n",
       "    <tr>\n",
       "      <th>umid_inst</th>\n",
       "      <td>0</td>\n",
       "      <td>0.000000</td>\n",
       "    </tr>\n",
       "    <tr>\n",
       "      <th>precipitacao</th>\n",
       "      <td>0</td>\n",
       "      <td>0.000000</td>\n",
       "    </tr>\n",
       "    <tr>\n",
       "      <th>pto_orvalho_inst</th>\n",
       "      <td>0</td>\n",
       "      <td>0.000000</td>\n",
       "    </tr>\n",
       "    <tr>\n",
       "      <th>radiacao</th>\n",
       "      <td>0</td>\n",
       "      <td>0.000000</td>\n",
       "    </tr>\n",
       "    <tr>\n",
       "      <th>pressao</th>\n",
       "      <td>0</td>\n",
       "      <td>0.000000</td>\n",
       "    </tr>\n",
       "    <tr>\n",
       "      <th>vento_vel</th>\n",
       "      <td>0</td>\n",
       "      <td>0.000000</td>\n",
       "    </tr>\n",
       "    <tr>\n",
       "      <th>vento_direcao</th>\n",
       "      <td>0</td>\n",
       "      <td>0.000000</td>\n",
       "    </tr>\n",
       "    <tr>\n",
       "      <th>hora</th>\n",
       "      <td>0</td>\n",
       "      <td>0.000000</td>\n",
       "    </tr>\n",
       "  </tbody>\n",
       "</table>\n",
       "</div>"
      ],
      "text/plain": [
       "                      Dados Ausentes  % Percentual\n",
       " Variaveis numericas                              \n",
       "vento_rajada                       6      0.000813\n",
       "pto_orvalho_max                    5      0.000678\n",
       "umid_min                           5      0.000678\n",
       "temp_max                           5      0.000678\n",
       "pressao_min                        5      0.000678\n",
       "pressao_max                        5      0.000678\n",
       "temp_min                           5      0.000678\n",
       "pto_orvalho_min                    5      0.000678\n",
       "umid_max                           5      0.000678\n",
       "temp_ins                           0      0.000000\n",
       "umid_inst                          0      0.000000\n",
       "precipitacao                       0      0.000000\n",
       "pto_orvalho_inst                   0      0.000000\n",
       "radiacao                           0      0.000000\n",
       "pressao                            0      0.000000\n",
       "vento_vel                          0      0.000000\n",
       "vento_direcao                      0      0.000000\n",
       "hora                               0      0.000000"
      ]
     },
     "execution_count": 4,
     "metadata": {},
     "output_type": "execute_result"
    }
   ],
   "source": [
    "tabela_faltantes()"
   ]
  },
  {
   "cell_type": "code",
   "execution_count": 5,
   "metadata": {},
   "outputs": [],
   "source": [
    "# Preenchendo as colunas com o valor da média:\n",
    "mean_vra = portogrande.vento_rajada.mean()\n",
    "mean_orv_min = portogrande.pto_orvalho_min.mean()\n",
    "mean_orv_max = portogrande.pto_orvalho_max.mean()\n",
    "mean_umid_min = portogrande.umid_min.mean()\n",
    "mean_umid_max = portogrande.umid_max.mean()\n",
    "mean_temp_min = portogrande.temp_min.mean()\n",
    "mean_temp_max = portogrande.temp_max.mean()\n",
    "mean_pressao_min = portogrande.pressao_min.mean()\n",
    "mean_pressao_max = portogrande.pressao_max.mean()\n",
    "\n",
    "portogrande['vento_rajada'] = portogrande['vento_rajada'].fillna(mean_vra)\n",
    "portogrande['pto_orvalho_min'] = portogrande['pto_orvalho_min'].fillna(mean_orv_min)\n",
    "portogrande['pto_orvalho_max'] = portogrande['pto_orvalho_max'].fillna(mean_orv_max)\n",
    "portogrande['umid_min'] = portogrande['umid_min'].fillna(mean_umid_min)\n",
    "portogrande['umid_max'] = portogrande['umid_max'].fillna(mean_umid_max)\n",
    "portogrande['temp_min'] = portogrande['temp_min'].fillna(mean_temp_min)\n",
    "portogrande['temp_max'] = portogrande['temp_max'].fillna(mean_temp_max)\n",
    "portogrande['pressao_min'] = portogrande['pressao_min'].fillna(mean_pressao_min)\n",
    "portogrande['pressao_max'] = portogrande['pressao_max'].fillna(mean_pressao_max)"
   ]
  },
  {
   "cell_type": "code",
   "execution_count": 6,
   "metadata": {},
   "outputs": [
    {
     "data": {
      "text/html": [
       "<div>\n",
       "<style scoped>\n",
       "    .dataframe tbody tr th:only-of-type {\n",
       "        vertical-align: middle;\n",
       "    }\n",
       "\n",
       "    .dataframe tbody tr th {\n",
       "        vertical-align: top;\n",
       "    }\n",
       "\n",
       "    .dataframe thead th {\n",
       "        text-align: right;\n",
       "    }\n",
       "</style>\n",
       "<table border=\"1\" class=\"dataframe\">\n",
       "  <thead>\n",
       "    <tr style=\"text-align: right;\">\n",
       "      <th></th>\n",
       "      <th>Dados Ausentes</th>\n",
       "      <th>% Percentual</th>\n",
       "    </tr>\n",
       "    <tr>\n",
       "      <th>Variaveis numericas</th>\n",
       "      <th></th>\n",
       "      <th></th>\n",
       "    </tr>\n",
       "  </thead>\n",
       "  <tbody>\n",
       "    <tr>\n",
       "      <th>precipitacao</th>\n",
       "      <td>0</td>\n",
       "      <td>0.0</td>\n",
       "    </tr>\n",
       "    <tr>\n",
       "      <th>radiacao</th>\n",
       "      <td>0</td>\n",
       "      <td>0.0</td>\n",
       "    </tr>\n",
       "    <tr>\n",
       "      <th>temp_ins</th>\n",
       "      <td>0</td>\n",
       "      <td>0.0</td>\n",
       "    </tr>\n",
       "    <tr>\n",
       "      <th>temp_max</th>\n",
       "      <td>0</td>\n",
       "      <td>0.0</td>\n",
       "    </tr>\n",
       "    <tr>\n",
       "      <th>temp_min</th>\n",
       "      <td>0</td>\n",
       "      <td>0.0</td>\n",
       "    </tr>\n",
       "    <tr>\n",
       "      <th>umid_inst</th>\n",
       "      <td>0</td>\n",
       "      <td>0.0</td>\n",
       "    </tr>\n",
       "    <tr>\n",
       "      <th>umid_max</th>\n",
       "      <td>0</td>\n",
       "      <td>0.0</td>\n",
       "    </tr>\n",
       "    <tr>\n",
       "      <th>umid_min</th>\n",
       "      <td>0</td>\n",
       "      <td>0.0</td>\n",
       "    </tr>\n",
       "    <tr>\n",
       "      <th>pto_orvalho_inst</th>\n",
       "      <td>0</td>\n",
       "      <td>0.0</td>\n",
       "    </tr>\n",
       "    <tr>\n",
       "      <th>pto_orvalho_max</th>\n",
       "      <td>0</td>\n",
       "      <td>0.0</td>\n",
       "    </tr>\n",
       "    <tr>\n",
       "      <th>pto_orvalho_min</th>\n",
       "      <td>0</td>\n",
       "      <td>0.0</td>\n",
       "    </tr>\n",
       "    <tr>\n",
       "      <th>pressao</th>\n",
       "      <td>0</td>\n",
       "      <td>0.0</td>\n",
       "    </tr>\n",
       "    <tr>\n",
       "      <th>pressao_max</th>\n",
       "      <td>0</td>\n",
       "      <td>0.0</td>\n",
       "    </tr>\n",
       "    <tr>\n",
       "      <th>pressao_min</th>\n",
       "      <td>0</td>\n",
       "      <td>0.0</td>\n",
       "    </tr>\n",
       "    <tr>\n",
       "      <th>vento_vel</th>\n",
       "      <td>0</td>\n",
       "      <td>0.0</td>\n",
       "    </tr>\n",
       "    <tr>\n",
       "      <th>vento_direcao</th>\n",
       "      <td>0</td>\n",
       "      <td>0.0</td>\n",
       "    </tr>\n",
       "    <tr>\n",
       "      <th>vento_rajada</th>\n",
       "      <td>0</td>\n",
       "      <td>0.0</td>\n",
       "    </tr>\n",
       "    <tr>\n",
       "      <th>hora</th>\n",
       "      <td>0</td>\n",
       "      <td>0.0</td>\n",
       "    </tr>\n",
       "  </tbody>\n",
       "</table>\n",
       "</div>"
      ],
      "text/plain": [
       "                      Dados Ausentes  % Percentual\n",
       " Variaveis numericas                              \n",
       "precipitacao                       0           0.0\n",
       "radiacao                           0           0.0\n",
       "temp_ins                           0           0.0\n",
       "temp_max                           0           0.0\n",
       "temp_min                           0           0.0\n",
       "umid_inst                          0           0.0\n",
       "umid_max                           0           0.0\n",
       "umid_min                           0           0.0\n",
       "pto_orvalho_inst                   0           0.0\n",
       "pto_orvalho_max                    0           0.0\n",
       "pto_orvalho_min                    0           0.0\n",
       "pressao                            0           0.0\n",
       "pressao_max                        0           0.0\n",
       "pressao_min                        0           0.0\n",
       "vento_vel                          0           0.0\n",
       "vento_direcao                      0           0.0\n",
       "vento_rajada                       0           0.0\n",
       "hora                               0           0.0"
      ]
     },
     "execution_count": 6,
     "metadata": {},
     "output_type": "execute_result"
    }
   ],
   "source": [
    "tabela_faltantes() # vamos verificar os dados depois de tratarmos os dados ausentes"
   ]
  },
  {
   "cell_type": "markdown",
   "metadata": {},
   "source": [
    "- Matriz de nulidade"
   ]
  },
  {
   "cell_type": "code",
   "execution_count": 7,
   "metadata": {},
   "outputs": [
    {
     "data": {
      "text/plain": [
       "<matplotlib.axes._subplots.AxesSubplot at 0x7f3c21d5a490>"
      ]
     },
     "execution_count": 7,
     "metadata": {},
     "output_type": "execute_result"
    },
    {
     "data": {
      "image/png": "[encoded data removed]",
      "text/plain": [
       "<Figure size 1800x720 with 2 Axes>"
      ]
     },
     "metadata": {},
     "output_type": "display_data"
    }
   ],
   "source": [
    "msno.matrix(portogrande) # com a matriz de nulidade vemos que os dados estao prontos para o processamento e modelagem"
   ]
  },
  {
   "cell_type": "markdown",
   "metadata": {},
   "source": [
    "## Seleção de Features "
   ]
  },
  {
   "cell_type": "markdown",
   "metadata": {},
   "source": [
    "- Selecionando o nosso X e Y  "
   ]
  },
  {
   "cell_type": "code",
   "execution_count": 8,
   "metadata": {},
   "outputs": [
    {
     "data": {
      "text/plain": [
       "Index(['codigo', 'data', 'hora', 'temp_ins', 'temp_max', 'temp_min',\n",
       "       'umid_inst', 'umid_max', 'umid_min', 'pto_orvalho_inst',\n",
       "       'pto_orvalho_max', 'pto_orvalho_min', 'pressao', 'pressao_max',\n",
       "       'pressao_min', 'vento_vel', 'vento_direcao', 'vento_rajada', 'radiacao',\n",
       "       'precipitacao'],\n",
       "      dtype='object')"
      ]
     },
     "execution_count": 8,
     "metadata": {},
     "output_type": "execute_result"
    }
   ],
   "source": [
    "portogrande.columns"
   ]
  },
  {
   "cell_type": "code",
   "execution_count": 9,
   "metadata": {},
   "outputs": [],
   "source": [
    "y = portogrande['precipitacao'] # precipitacao (volume de chuva)\n",
    "X = portogrande.drop(['precipitacao','codigo','data','hora'], axis=1) # removendo chuva e algumas features "
   ]
  },
  {
   "cell_type": "markdown",
   "metadata": {},
   "source": [
    "- Separando em Treino e Teste"
   ]
  },
  {
   "cell_type": "code",
   "execution_count": 10,
   "metadata": {},
   "outputs": [
    {
     "data": {
      "text/plain": [
       "((5165, 16), (2214, 16), (5165,), (2214,))"
      ]
     },
     "execution_count": 10,
     "metadata": {},
     "output_type": "execute_result"
    }
   ],
   "source": [
    "Xtrain, Xtest, ytrain, ytest = train_test_split(X, y, train_size=0.7, random_state=0)\n",
    "Xtrain.shape, Xtest.shape, ytrain.shape, ytest.shape "
   ]
  },
  {
   "cell_type": "markdown",
   "metadata": {},
   "source": [
    "# Modelagem "
   ]
  },
  {
   "cell_type": "code",
   "execution_count": 42,
   "metadata": {},
   "outputs": [
    {
     "name": "stdout",
     "output_type": "stream",
     "text": [
      "(5165, 16) (5165, 2)\n",
      "k = 2 - MAE = 0.36075287971966646\n",
      "(5165, 16) (5165, 4)\n",
      "k = 4 - MAE = 0.2752806266078437\n",
      "(5165, 16) (5165, 6)\n",
      "k = 6 - MAE = 0.25787739741589333\n",
      "(5165, 16) (5165, 8)\n",
      "k = 8 - MAE = 0.25615685805336874\n",
      "(5165, 16) (5165, 10)\n",
      "k = 10 - MAE = 0.2561557362240289\n",
      "(5165, 16) (5165, 12)\n",
      "k = 12 - MAE = 0.2550380307136405\n",
      "(5165, 16) (5165, 14)\n",
      "k = 14 - MAE = 0.26390813008130076\n"
     ]
    }
   ],
   "source": [
    "k_vs_score = []\n",
    "for k in range(2, Xtrain.shape[1], 2):\n",
    "    selector_model = Lasso(alpha=1, normalize=True)\n",
    "#     selector_model = LinearRegression(normalize=True)\n",
    "#     selector_model = Ridge(alpha=0.1, normalize=True)\n",
    "#     selector_model = RandomForestRegressor(random_state=1, n_jobs=-1)\n",
    "    selector = SelectFromModel(selector_model, max_features=k, threshold=-np.inf)\n",
    "\n",
    "    selector.fit(Xtrain, ytrain)\n",
    "    \n",
    "    Xtrain2 = selector.transform(Xtrain)\n",
    "    Xtest2 = selector.transform(Xtest)\n",
    "\n",
    "    print(Xtrain.shape, Xtrain2.shape)\n",
    "    \n",
    "    mdl = RandomForestRegressor(n_estimators=1000, random_state=0, n_jobs=-1)\n",
    "#     mdl = XGBRegressor(objective=\"reg:squarederror\", seed=0)\n",
    "    mdl.fit(Xtrain2, ytrain)\n",
    "    prev_chuva = mdl.predict(Xtest2)\n",
    "\n",
    "    score = mean_absolute_error(ytest, prev_chuva)\n",
    "    print(\"k = {} - MAE = {}\".format(k, score))\n",
    "    \n",
    "    k_vs_score.append(score)"
   ]
  },
  {
   "cell_type": "code",
   "execution_count": 41,
   "metadata": {},
   "outputs": [
    {
     "data": {
      "text/plain": [
       "<matplotlib.axes._subplots.AxesSubplot at 0x7f3c2038e910>"
      ]
     },
     "execution_count": 41,
     "metadata": {},
     "output_type": "execute_result"
    },
    {
     "data": {
      "image/png": "[encoded data removed]",
      "text/plain": [
       "<Figure size 720x504 with 1 Axes>"
      ]
     },
     "metadata": {},
     "output_type": "display_data"
    }
   ],
   "source": [
    "pd.Series(k_vs_score,index=range(2,X.shape[1],2)).plot(figsize=(10,7))"
   ]
  },
  {
   "cell_type": "markdown",
   "metadata": {},
   "source": [
    "### Quais as features que o modelo selecionou?"
   ]
  },
  {
   "cell_type": "markdown",
   "metadata": {},
   "source": [
    "- Todas as Features antes do loop"
   ]
  },
  {
   "cell_type": "code",
   "execution_count": 13,
   "metadata": {},
   "outputs": [
    {
     "name": "stdout",
     "output_type": "stream",
     "text": [
      "Total de features: 16\n",
      "Index(['temp_ins', 'temp_max', 'temp_min', 'umid_inst', 'umid_max', 'umid_min',\n",
      "       'pto_orvalho_inst', 'pto_orvalho_max', 'pto_orvalho_min', 'pressao',\n",
      "       'pressao_max', 'pressao_min', 'vento_vel', 'vento_direcao',\n",
      "       'vento_rajada', 'radiacao'],\n",
      "      dtype='object')\n"
     ]
    }
   ],
   "source": [
    "print(f'Total de features: {X.shape[1]}\\n{X.columns}')"
   ]
  },
  {
   "cell_type": "markdown",
   "metadata": {},
   "source": [
    "- Depois do loop"
   ]
  },
  {
   "cell_type": "code",
   "execution_count": 14,
   "metadata": {},
   "outputs": [
    {
     "name": "stdout",
     "output_type": "stream",
     "text": [
      "Total de Feature 14\n",
      "Index(['temp_ins', 'temp_max', 'temp_min', 'umid_inst', 'umid_max', 'umid_min',\n",
      "       'pto_orvalho_inst', 'pto_orvalho_max', 'pto_orvalho_min', 'pressao',\n",
      "       'pressao_max', 'pressao_min', 'vento_vel', 'vento_direcao'],\n",
      "      dtype='object')\n"
     ]
    }
   ],
   "source": [
    "mask = selector.get_support()\n",
    "print(f'Total de Feature {len(Xtrain.columns[mask])}\\n{Xtrain.columns[mask]}')"
   ]
  },
  {
   "cell_type": "markdown",
   "metadata": {},
   "source": [
    "### Conclusão:\n",
    "- As feature que saiu foi Radiação e as anteriores que foram dropadas antes de treinar o modelo: data, hora, codigo_estacão"
   ]
  },
  {
   "cell_type": "markdown",
   "metadata": {},
   "source": [
    "## Avaliando o desempenho do modelo"
   ]
  },
  {
   "cell_type": "code",
   "execution_count": 37,
   "metadata": {},
   "outputs": [
    {
     "name": "stdout",
     "output_type": "stream",
     "text": [
      "𝑅² - Coeficiente de determinação: 0.57248943\n",
      "MSE - Erro médio quadrático: 0.81988207\n",
      "MAE - Mediana de erros de predição: 0.03053047\n"
     ]
    }
   ],
   "source": [
    "print(f'𝑅² - Coeficiente de determinação: {r2_score(ytest, prev_chuva).round(8)}') # 𝑅² quanto mais proximo de 1 melhor\n",
    "print(f'MSE - Erro médio quadrático: {mean_squared_error(ytest, prev_chuva).round(8)}')# Mean Squared Error - mais proximo de 0 melhor\n",
    "print(f'MAE - Mediana de erros de predição: {median_absolute_error(ytest, prev_chuva).round(8)}') # Median Absolute Error - menor melhor"
   ]
  },
  {
   "cell_type": "markdown",
   "metadata": {},
   "source": [
    "## Salvando as Previsões"
   ]
  },
  {
   "cell_type": "code",
   "execution_count": 16,
   "metadata": {},
   "outputs": [],
   "source": [
    "resultado = pd.Series(prev_chuva)\n",
    "resultado.to_csv('../output/prev_chuva_ptg.csv',index = False)"
   ]
  }
 ],
 "metadata": {
  "kernelspec": {
   "display_name": "Python 3.7.6 64-bit ('base': conda)",
   "language": "python",
   "name": "python37664bitbaseconda9e99948a330642a89bba97badd3d4f32"
  },
  "language_info": {
   "codemirror_mode": {
    "name": "ipython",
    "version": 3
   },
   "file_extension": ".py",
   "mimetype": "text/x-python",
   "name": "python",
   "nbconvert_exporter": "python",
   "pygments_lexer": "ipython3",
   "version": "3.7.6"
  }
 },
 "nbformat": 4,
 "nbformat_minor": 4
}
